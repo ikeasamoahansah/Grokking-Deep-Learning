{
  "nbformat": 4,
  "nbformat_minor": 0,
  "metadata": {
    "colab": {
      "provenance": [],
      "authorship_tag": "ABX9TyM3X49MB8jR0NMvGKIrJ2uc",
      "include_colab_link": true
    },
    "kernelspec": {
      "name": "python3",
      "display_name": "Python 3"
    },
    "language_info": {
      "name": "python"
    }
  },
  "cells": [
    {
      "cell_type": "markdown",
      "metadata": {
        "id": "view-in-github",
        "colab_type": "text"
      },
      "source": [
        "<a href=\"https://colab.research.google.com/github/ikeasamoahansah/Grokking-Deep-Learning/blob/main/nlp.ipynb\" target=\"_parent\"><img src=\"https://colab.research.google.com/assets/colab-badge.svg\" alt=\"Open In Colab\"/></a>"
      ]
    },
    {
      "cell_type": "markdown",
      "source": [
        "\n",
        "# Building a Two layer network for embedding\n",
        "\n"
      ],
      "metadata": {
        "id": "ygi0RnXSM1bb"
      }
    },
    {
      "cell_type": "code",
      "execution_count": null,
      "metadata": {
        "id": "oWzNEGAzImGK"
      },
      "outputs": [],
      "source": [
        "import sys\n",
        "\n",
        "#read reviews\n",
        "f = open('reviews.txt')\n",
        "raw_reviews = f.readlines()\n",
        "f.close()\n",
        "\n",
        "#read labels\n",
        "f = open('labels.txt')\n",
        "raw_labels = f.readlines()\n",
        "f.close()\n",
        "\n",
        "# tokenize\n",
        "# apply a function to split by spaces in every item in raw_reviews\n",
        "tokens = list(map(lambda x: set(x.split(\" \")), raw_reviews))\n",
        "\n",
        "vocab = set()\n",
        "for sent in tokens:\n",
        "  for word in sent:\n",
        "    if len(word) > 0:\n",
        "      vocab.add(word)\n",
        "vocab = list(vocab)\n",
        "\n",
        "#map word to an index\n",
        "word2index = {}\n",
        "for i, word in enumerate(vocab):\n",
        "  word2index[word] = i\n",
        "\n",
        "input_dataset = list()\n",
        "for sent in tokens:\n",
        "  sent_indices = list()\n",
        "  for word in sent:\n",
        "    try:\n",
        "      sent_indices.append(word2index[word])\n",
        "    except:\n",
        "      \"\"\n",
        "  input_dataset.append(list(set(sent_indices)))\n",
        "\n",
        "  target_dataset = list()\n",
        "  for label in raw_labels:\n",
        "    if label == 'positive\\n':\n",
        "      target_dataset.append(1)\n",
        "    else:\n",
        "      target_dataset.append(0)"
      ]
    },
    {
      "cell_type": "markdown",
      "source": [
        "# Setting up the Neural Network"
      ],
      "metadata": {
        "id": "dsTV3mE8XUZC"
      }
    },
    {
      "cell_type": "code",
      "source": [
        "import numpy as np\n",
        "np.random.seed(1)\n",
        "\n",
        "def sigmoid(x):\n",
        "  return 1/(1 + np.exp(-x))\n",
        "\n",
        "alpha, iterations = (0.01, 2)\n",
        "hidden_size = 100\n",
        "\n",
        "weights_0_1 = 0.2 * np.random.random((len(vocab), hidden_size)) - 0.1\n",
        "weights_1_2 = 0.2 * np.random.random((hidden_size, 1)) - 0.1\n",
        "\n",
        "correct, total = (0, 0)\n",
        "for iter in range(iterations):\n",
        "\n",
        "  for i in range(len(input_dataset)-1000):\n",
        "\n",
        "    x, y = (input_dataset[i], target_dataset[i])\n",
        "    layer_1 = sigmoid(np.sum(weights_0_1[x], axis=0))\n",
        "    layer_2 = sigmoid(np.dot(layer_1, weights_1_2))\n",
        "\n",
        "    layer_2_delta = layer_2 - y\n",
        "    layer_1_delta = layer_2_delta.dot(weights_1_2.T)\n",
        "\n",
        "    weights_0_1[x] -= layer_1_delta * alpha\n",
        "    weights_1_2 -= np.outer(layer_1, layer_2_delta) * alpha\n",
        "\n",
        "    if(np.abs(layer_2_delta) <= 0.5):\n",
        "      correct += 1\n",
        "    total += 1\n",
        "    if(i % 10 == 9):\n",
        "      progress = str(i/float(len(input_dataset)))\n",
        "      sys.stdout.write('\\rIter:'+str(iter)\\\n",
        "                       +' Progress:'+progress[2:4]\\\n",
        "                       +'.'+progress[4:6]\\\n",
        "                       +'% Training Accuracy:'\\\n",
        "                       + str(correct/float(total)) + '%')\n",
        "  print()\n",
        "correct, total = (0, 0)\n",
        "for i in range(len(input_dataset)-1000, len(input_dataset)):\n",
        "  x = input_dataset[i]\n",
        "  y = target_dataset[i]\n",
        "\n",
        "  layer_1 = sigmoid(np.sum(weights_0_1[x], axis=0))\n",
        "  layer_2 = sigmoid(np.dot(layer_1, weights_1_2))\n",
        "\n",
        "  if(np.abs(layer_2 - y) < 0.5):\n",
        "    correct += 1\n",
        "  total += 1\n",
        "\n",
        "print(\"Test Accuracy:\" + str(correct/float(total)))"
      ],
      "metadata": {
        "id": "RhSD5s4yP8Yn",
        "colab": {
          "base_uri": "https://localhost:8080/",
          "height": 245
        },
        "outputId": "2eeced1d-a126-441e-e2fe-d357e32b523d"
      },
      "execution_count": 4,
      "outputs": [
        {
          "output_type": "stream",
          "name": "stdout",
          "text": [
            "\n",
            "\n"
          ]
        },
        {
          "output_type": "error",
          "ename": "IndexError",
          "evalue": "list index out of range",
          "traceback": [
            "\u001b[0;31m---------------------------------------------------------------------------\u001b[0m",
            "\u001b[0;31mIndexError\u001b[0m                                Traceback (most recent call last)",
            "\u001b[0;32m<ipython-input-4-0cb5d911ffef>\u001b[0m in \u001b[0;36m<cell line: 40>\u001b[0;34m()\u001b[0m\n\u001b[1;32m     39\u001b[0m \u001b[0mcorrect\u001b[0m\u001b[0;34m,\u001b[0m \u001b[0mtotal\u001b[0m \u001b[0;34m=\u001b[0m \u001b[0;34m(\u001b[0m\u001b[0;36m0\u001b[0m\u001b[0;34m,\u001b[0m \u001b[0;36m0\u001b[0m\u001b[0;34m)\u001b[0m\u001b[0;34m\u001b[0m\u001b[0;34m\u001b[0m\u001b[0m\n\u001b[1;32m     40\u001b[0m \u001b[0;32mfor\u001b[0m \u001b[0mi\u001b[0m \u001b[0;32min\u001b[0m \u001b[0mrange\u001b[0m\u001b[0;34m(\u001b[0m\u001b[0mlen\u001b[0m\u001b[0;34m(\u001b[0m\u001b[0minput_dataset\u001b[0m\u001b[0;34m)\u001b[0m\u001b[0;34m-\u001b[0m\u001b[0;36m1000\u001b[0m\u001b[0;34m,\u001b[0m \u001b[0mlen\u001b[0m\u001b[0;34m(\u001b[0m\u001b[0minput_dataset\u001b[0m\u001b[0;34m)\u001b[0m\u001b[0;34m)\u001b[0m\u001b[0;34m:\u001b[0m\u001b[0;34m\u001b[0m\u001b[0;34m\u001b[0m\u001b[0m\n\u001b[0;32m---> 41\u001b[0;31m   \u001b[0mx\u001b[0m \u001b[0;34m=\u001b[0m \u001b[0minput_dataset\u001b[0m\u001b[0;34m[\u001b[0m\u001b[0mi\u001b[0m\u001b[0;34m]\u001b[0m\u001b[0;34m\u001b[0m\u001b[0;34m\u001b[0m\u001b[0m\n\u001b[0m\u001b[1;32m     42\u001b[0m   \u001b[0my\u001b[0m \u001b[0;34m=\u001b[0m \u001b[0mtarget_dataset\u001b[0m\u001b[0;34m[\u001b[0m\u001b[0mi\u001b[0m\u001b[0;34m]\u001b[0m\u001b[0;34m\u001b[0m\u001b[0;34m\u001b[0m\u001b[0m\n\u001b[1;32m     43\u001b[0m \u001b[0;34m\u001b[0m\u001b[0m\n",
            "\u001b[0;31mIndexError\u001b[0m: list index out of range"
          ]
        }
      ]
    },
    {
      "cell_type": "code",
      "source": [],
      "metadata": {
        "id": "Il5eSG0KXQr1"
      },
      "execution_count": null,
      "outputs": []
    }
  ]
}