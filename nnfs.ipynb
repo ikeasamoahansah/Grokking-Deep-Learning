{
  "nbformat": 4,
  "nbformat_minor": 0,
  "metadata": {
    "colab": {
      "provenance": [],
      "authorship_tag": "ABX9TyMpjBewTcrN8BmvAMty+Nrm",
      "include_colab_link": true
    },
    "kernelspec": {
      "name": "python3",
      "display_name": "Python 3"
    },
    "language_info": {
      "name": "python"
    }
  },
  "cells": [
    {
      "cell_type": "markdown",
      "metadata": {
        "id": "view-in-github",
        "colab_type": "text"
      },
      "source": [
        "<a href=\"https://colab.research.google.com/github/ikeasamoahansah/Grokking-Deep-Learning/blob/main/nnfs.ipynb\" target=\"_parent\"><img src=\"https://colab.research.google.com/assets/colab-badge.svg\" alt=\"Open In Colab\"/></a>"
      ]
    },
    {
      "cell_type": "code",
      "execution_count": 10,
      "metadata": {
        "id": "KBMl9JjoDRMz"
      },
      "outputs": [],
      "source": [
        "import sys, numpy as np\n",
        "from keras.datasets import mnist"
      ]
    },
    {
      "cell_type": "code",
      "source": [
        "(X_train, y_train), (X_test, y_test) = mnist.load_data()"
      ],
      "metadata": {
        "id": "yRGxwpNVDWmS"
      },
      "execution_count": 11,
      "outputs": []
    },
    {
      "cell_type": "code",
      "source": [
        "images, labels = (X_train[0:1000].reshape(1000, 28*28) / 255, y_train[0:1000])"
      ],
      "metadata": {
        "id": "ri-Ts8XsDrwp"
      },
      "execution_count": 12,
      "outputs": []
    },
    {
      "cell_type": "code",
      "source": [
        "one_hot_labels = np.zeros((len(labels), 10))"
      ],
      "metadata": {
        "id": "kflp0dviq3Qz"
      },
      "execution_count": 13,
      "outputs": []
    },
    {
      "cell_type": "code",
      "source": [
        "for i, l in enumerate(labels):\n",
        "  one_hot_labels[i][l] = 1\n",
        "labels = one_hot_labels"
      ],
      "metadata": {
        "id": "xvEtMZmtq9Vx"
      },
      "execution_count": 14,
      "outputs": []
    },
    {
      "cell_type": "code",
      "source": [
        "test_images = X_test.reshape(len(X_test), 28*28)/255\n",
        "test_labels = np.zeros((len(y_test), 10))\n",
        "for i, l in enumerate(y_test):\n",
        "  test_labels[i][l] = 1\n",
        "np.random.seed(1)\n",
        "\n",
        "relu = lambda x: (x>=0) * x\n",
        "relu2deriv = lambda x: x>=0\n",
        "\n",
        "alpha, iterations, hidden_size, pixels_per_image, num_labels = \\\n",
        "(0.005, 350, 40, 784, 10)"
      ],
      "metadata": {
        "id": "JmQOW08orISp"
      },
      "execution_count": 15,
      "outputs": []
    },
    {
      "cell_type": "code",
      "source": [
        "weights_0_1 = 0.2 * np.random.random((pixels_per_image, hidden_size)) - 0.1\n",
        "weights_1_2 = 0.2 * np.random.random((hidden_size, num_labels)) - 0.1"
      ],
      "metadata": {
        "id": "PINDJWZwsIbc"
      },
      "execution_count": 20,
      "outputs": []
    },
    {
      "cell_type": "code",
      "source": [
        "for j in range(iterations):\n",
        "  error, correct_cnt = (0.0, 0)\n",
        "\n",
        "  for i in range(len(images)):\n",
        "    layer_0 = images[i:i+1]\n",
        "    layer_1 = relu(np.dot(layer_0, weights_0_1))\n",
        "    layer_2 = np.dot(layer_1, weights_1_2)\n",
        "    error += np.sum((labels[i:i+1] - layer_2) ** 2) #mse\n",
        "    correct_cnt += int(np.argmax(layer_2) == np.argmax(labels[i:i+1]))\n",
        "\n",
        "    layer_2_delta = (labels[i:i+1] - layer_2)\n",
        "    layer_1_delta = layer_2_delta.dot(weights_1_2.T) * relu2deriv(layer_1)\n",
        "\n",
        "    weights_1_2 += alpha * layer_1.T.dot(layer_2_delta)\n",
        "    weights_0_1 += alpha * layer_0.T.dot(layer_1_delta)\n",
        "\n",
        "  sys.stdout.write(\"\\r\" + \\\n",
        "                   \" I:\"+str(j)+\\\n",
        "                   \" Error:\" +str(error/float(len(images)))[0:5] +\\\n",
        "                   \" Correct:\" +str(correct_cnt/float(len(images))))"
      ],
      "metadata": {
        "colab": {
          "base_uri": "https://localhost:8080/"
        },
        "id": "SETwFYh3sYsU",
        "outputId": "313f4577-17c4-45c5-9c9c-86b55b008281"
      },
      "execution_count": 21,
      "outputs": [
        {
          "output_type": "stream",
          "name": "stdout",
          "text": [
            " I:349 Error:0.100 Correct:0.999"
          ]
        }
      ]
    },
    {
      "cell_type": "code",
      "source": [
        "if(j % 10 == 0 or j == iterations-1):\n",
        "  error, correct_cnt = (0.0, 0)\n",
        "\n",
        "  for i in range(len(test_images)):\n",
        "    layer_0 = test_images[i:i+1]\n",
        "    layer_1 = relu(np.dot(layer_0, weights_0_1))\n",
        "    layer_2 = np.dot(layer_1, weights_1_2)\n",
        "\n",
        "    error += np.sum((test_labels[i:i+1]-layer_2) ** 2)\n",
        "    correct_cnt += int(np.argmax(layer_2)) == np.argmax(test_labels[i:i+1])\n",
        "\n",
        "  sys.stdout.write(\" Test-Err:\" + str(error/float(len(test_images)))[0:5] + \\\n",
        "                   \" Test Acc:\" + str(correct_cnt/float(len(test_images))))\n",
        "  print()"
      ],
      "metadata": {
        "colab": {
          "base_uri": "https://localhost:8080/"
        },
        "id": "76dIQcxCvCDg",
        "outputId": "f8344a4c-4adc-4013-83a9-eebe9e2241fa"
      },
      "execution_count": 22,
      "outputs": [
        {
          "output_type": "stream",
          "name": "stdout",
          "text": [
            " Test-Err:0.624 Test Acc:0.6986\n"
          ]
        }
      ]
    },
    {
      "cell_type": "markdown",
      "source": [
        "# Adding dropout to improve Accuracy"
      ],
      "metadata": {
        "id": "YOTzGo2_xhOV"
      }
    },
    {
      "cell_type": "code",
      "source": [
        "for j in range(iterations):\n",
        "  error, correct_cnt = (0.0, 0)\n",
        "\n",
        "  for i in range(len(images)):\n",
        "    layer_0 = images[i:i+1]\n",
        "    layer_1 = relu(np.dot(layer_0, weights_0_1))\n",
        "\n",
        "    dropout_mask = np.random.randint(2, size=layer_1.shape)\n",
        "    layer_1 *= dropout_mask * 2\n",
        "\n",
        "    layer_2 = np.dot(layer_1, weights_1_2)\n",
        "    error += np.sum((labels[i:i+1] - layer_2) ** 2) #mse\n",
        "    correct_cnt += int(np.argmax(layer_2) == np.argmax(labels[i:i+1]))\n",
        "\n",
        "    layer_2_delta = (labels[i:i+1] - layer_2)\n",
        "    layer_1_delta = layer_2_delta.dot(weights_1_2.T) * relu2deriv(layer_1)\n",
        "\n",
        "    # dropout\n",
        "    layer_1_delta *= dropout_mask\n",
        "\n",
        "    weights_1_2 += alpha * layer_1.T.dot(layer_2_delta)\n",
        "    weights_0_1 += alpha * layer_0.T.dot(layer_1_delta)\n",
        "\n",
        "  sys.stdout.write(\"\\r\" + \\\n",
        "                   \" I:\"+str(j)+\\\n",
        "                   \" Error:\" +str(error/float(len(images)))[0:5] +\\\n",
        "                   \" Correct:\" +str(correct_cnt/float(len(images))))"
      ],
      "metadata": {
        "colab": {
          "base_uri": "https://localhost:8080/"
        },
        "id": "neilW8pexRAy",
        "outputId": "52653531-90f2-43a7-a8be-f257966a30a8"
      },
      "execution_count": 23,
      "outputs": [
        {
          "output_type": "stream",
          "name": "stdout",
          "text": [
            " I:349 Error:0.376 Correct:0.846"
          ]
        }
      ]
    },
    {
      "cell_type": "code",
      "source": [
        "if(j % 10 == 0 or j == iterations-1):\n",
        "  error, correct_cnt = (0.0, 0)\n",
        "\n",
        "  for i in range(len(test_images)):\n",
        "    layer_0 = test_images[i:i+1]\n",
        "    layer_1 = relu(np.dot(layer_0, weights_0_1))\n",
        "    layer_2 = np.dot(layer_1, weights_1_2)\n",
        "\n",
        "    error += np.sum((test_labels[i:i+1]-layer_2) ** 2)\n",
        "    correct_cnt += int(np.argmax(layer_2)) == np.argmax(test_labels[i:i+1])\n",
        "\n",
        "  sys.stdout.write(\" Test-Err:\" + str(error/float(len(test_images)))[0:5] + \\\n",
        "                   \" Test Acc:\" + str(correct_cnt/float(len(test_images))))\n",
        "  print()"
      ],
      "metadata": {
        "colab": {
          "base_uri": "https://localhost:8080/"
        },
        "id": "7I3LDUzdyZyW",
        "outputId": "ef4ca2ab-efa0-4a91-b22a-b890b109179a"
      },
      "execution_count": 24,
      "outputs": [
        {
          "output_type": "stream",
          "name": "stdout",
          "text": [
            " Test-Err:0.430 Test Acc:0.7964\n"
          ]
        }
      ]
    },
    {
      "cell_type": "markdown",
      "source": [
        "# Batch Gradient Descent"
      ],
      "metadata": {
        "id": "M1mQmnlNzYi_"
      }
    },
    {
      "cell_type": "code",
      "source": [
        "np.random.seed(1)\n",
        "\n",
        "def relu(x):\n",
        "  return (x >= 0) * x\n",
        "\n",
        "def relu2deriv(output):\n",
        "  return output >= 0\n",
        "\n",
        "batch_size = 100\n",
        "alpha, iterations = (0.001, 300)\n",
        "pixels_per_image, num_labels, hidden_size = (784, 10, 100)\n",
        "\n",
        "weights_0_1 = 0.2*np.random.random((pixels_per_image,hidden_size)) - 0.1\n",
        "weights_1_2 = 0.2*np.random.random((hidden_size,num_labels)) - 0.1"
      ],
      "metadata": {
        "id": "3tIMGBLrzbtb"
      },
      "execution_count": 29,
      "outputs": []
    },
    {
      "cell_type": "code",
      "source": [
        "for j in range(iterations):\n",
        "  error, correct_cnt = (0.0, 0)\n",
        "\n",
        "  for i in range(int(len(images)/batch_size)):\n",
        "    batch_start, batch_end = ((i * batch_size), ((i+1) * batch_size))\n",
        "    layer_0 = images[batch_start:batch_end] #change here\n",
        "    layer_1 = relu(np.dot(layer_0, weights_0_1))\n",
        "\n",
        "    dropout_mask = np.random.randint(2, size=layer_1.shape)\n",
        "    layer_1 *= dropout_mask * 2\n",
        "    layer_2 = np.dot(layer_1, weights_1_2)\n",
        "\n",
        "    error += np.sum((labels[batch_start:batch_end] - layer_2) ** 2) #mse\n",
        "    for k in range(batch_size):\n",
        "      correct_cnt += int(np.argmax(layer_2[k:k+1]) == \\\n",
        "                        np.argmax(labels[batch_start+k:batch_start+k+1]))\n",
        "\n",
        "      layer_2_delta = (labels[batch_start:batch_end] - layer_2)/batch_size\n",
        "      layer_1_delta = layer_2_delta.dot(weights_1_2.T) * relu2deriv(layer_1)\n",
        "\n",
        "      # dropout\n",
        "      layer_1_delta *= dropout_mask\n",
        "\n",
        "      weights_1_2 += alpha * layer_1.T.dot(layer_2_delta)\n",
        "      weights_0_1 += alpha * layer_0.T.dot(layer_1_delta)\n",
        "\n",
        "  if(j % 10 == 0 or j == iterations-1):\n",
        "    test_error, test_correct_cnt = (0.0, 0)\n",
        "\n",
        "    for i in range(len(test_images)):\n",
        "      layer_0 = test_images[i:i+1]\n",
        "      layer_1 = relu(np.dot(layer_0, weights_0_1))\n",
        "      layer_2 = np.dot(layer_1, weights_1_2)\n",
        "\n",
        "      error += np.sum((test_labels[i:i+1]-layer_2) ** 2)\n",
        "      correct_cnt += int(np.argmax(layer_2)) == np.argmax(test_labels[i:i+1])\n",
        "\n",
        "    sys.stdout.write(\" Test-Err:\" + str(error/float(len(test_images)))[0:5] + \\\n",
        "                   \" Test Acc:\" + str(correct_cnt/float(len(test_images))))\n",
        "    print()"
      ],
      "metadata": {
        "colab": {
          "base_uri": "https://localhost:8080/"
        },
        "id": "kRX4gDv7z62z",
        "outputId": "abe4588b-e2d4-414b-f086-980d5e2ac373"
      },
      "execution_count": 33,
      "outputs": [
        {
          "output_type": "stream",
          "name": "stdout",
          "text": [
            " Test-Err:0.470 Test Acc:0.884\n",
            " Test-Err:0.466 Test Acc:0.8802\n",
            " Test-Err:0.464 Test Acc:0.8846\n",
            " Test-Err:0.463 Test Acc:0.8937\n",
            " Test-Err:0.463 Test Acc:0.8853\n",
            " Test-Err:0.464 Test Acc:0.8844\n",
            " Test-Err:0.462 Test Acc:0.8912\n",
            " Test-Err:0.461 Test Acc:0.8835\n",
            " Test-Err:0.466 Test Acc:0.8772\n",
            " Test-Err:0.464 Test Acc:0.8853\n",
            " Test-Err:0.465 Test Acc:0.8844\n",
            " Test-Err:0.465 Test Acc:0.8842\n",
            " Test-Err:0.458 Test Acc:0.8842\n",
            " Test-Err:0.462 Test Acc:0.8859\n",
            " Test-Err:0.459 Test Acc:0.8909\n",
            " Test-Err:0.458 Test Acc:0.8908\n",
            " Test-Err:0.458 Test Acc:0.8845\n",
            " Test-Err:0.455 Test Acc:0.8881\n",
            " Test-Err:0.451 Test Acc:0.8873\n",
            " Test-Err:0.452 Test Acc:0.8873\n",
            " Test-Err:0.454 Test Acc:0.8855\n",
            " Test-Err:0.454 Test Acc:0.8805\n",
            " Test-Err:0.452 Test Acc:0.889\n",
            " Test-Err:0.455 Test Acc:0.8911\n",
            " Test-Err:0.455 Test Acc:0.8932\n",
            " Test-Err:0.452 Test Acc:0.8972\n",
            " Test-Err:0.451 Test Acc:0.8929\n",
            " Test-Err:0.449 Test Acc:0.8924\n",
            " Test-Err:0.451 Test Acc:0.8868\n",
            " Test-Err:0.447 Test Acc:0.8897\n",
            " Test-Err:0.449 Test Acc:0.8836\n"
          ]
        }
      ]
    },
    {
      "cell_type": "code",
      "source": [],
      "metadata": {
        "id": "feVmqsWO1MhD"
      },
      "execution_count": null,
      "outputs": []
    }
  ]
}