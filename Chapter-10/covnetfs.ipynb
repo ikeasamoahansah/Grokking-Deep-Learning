{
  "nbformat": 4,
  "nbformat_minor": 0,
  "metadata": {
    "colab": {
      "provenance": [],
      "gpuType": "T4",
      "authorship_tag": "ABX9TyMYJhAkRi3J5Feq0XAAhmgB",
      "include_colab_link": true
    },
    "kernelspec": {
      "name": "python3",
      "display_name": "Python 3"
    },
    "language_info": {
      "name": "python"
    },
    "accelerator": "GPU"
  },
  "cells": [
    {
      "cell_type": "markdown",
      "metadata": {
        "id": "view-in-github",
        "colab_type": "text"
      },
      "source": [
        "<a href=\"https://colab.research.google.com/github/ikeasamoahansah/Grokking-Deep-Learning/blob/main/covnetfs.ipynb\" target=\"_parent\"><img src=\"https://colab.research.google.com/assets/colab-badge.svg\" alt=\"Open In Colab\"/></a>"
      ]
    },
    {
      "cell_type": "code",
      "execution_count": 1,
      "metadata": {
        "colab": {
          "base_uri": "https://localhost:8080/"
        },
        "id": "J5paXJ-gvzCO",
        "outputId": "fc659a5e-8cb8-40ff-a622-76e7c74004f2"
      },
      "outputs": [
        {
          "output_type": "stream",
          "name": "stdout",
          "text": [
            "Downloading data from https://storage.googleapis.com/tensorflow/tf-keras-datasets/mnist.npz\n",
            "11490434/11490434 [==============================] - 0s 0us/step\n"
          ]
        }
      ],
      "source": [
        "import numpy as np, sys\n",
        "from keras.datasets import mnist\n",
        "\n",
        "np.random.seed(1)\n",
        "\n",
        "(x_train, y_train), (x_test, y_test) = mnist.load_data()"
      ]
    },
    {
      "cell_type": "code",
      "source": [
        "images, labels = (x_train[0:1000].reshape(1000,28*28) / 255,\n",
        "y_train[0:1000])\n",
        "\n",
        "one_hot_labels = np.zeros((len(labels),10))\n",
        "\n",
        "for i,l in enumerate(labels):\n",
        "  one_hot_labels[i][l] = 1\n",
        "labels = one_hot_labels\n",
        "\n",
        "test_images = x_test.reshape(len(x_test),28*28) / 255\n",
        "test_labels = np.zeros((len(y_test),10))\n",
        "\n",
        "for i,l in enumerate(y_test):\n",
        "  test_labels[i][l] = 1\n",
        "\n",
        "def tanh(x):\n",
        "  return np.tanh(x)\n",
        "def tanh2deriv(output):\n",
        "  return 1 - (output ** 2)\n",
        "def softmax(x):\n",
        "  temp = np.exp(x)\n",
        "  return temp / np.sum(temp, axis=1, keepdims=True)"
      ],
      "metadata": {
        "id": "ReAv9Yjgwk-H"
      },
      "execution_count": 2,
      "outputs": []
    },
    {
      "cell_type": "code",
      "source": [
        "alpha, iterations = (2, 300)\n",
        "pixels_per_image, num_labels = (784, 10)\n",
        "batch_size = 128\n",
        "input_rows = 28\n",
        "input_cols = 28\n",
        "kernel_rows = 3\n",
        "kernel_cols = 3\n",
        "num_kernels = 16\n",
        "\n",
        "hidden_size = ((input_rows - kernel_rows) * (input_cols - kernel_cols)) * num_kernels\n",
        "kernels = 0.02*np.random.random((kernel_rows*kernel_cols, num_kernels))-0.01\n",
        "weights_1_2 = 0.2*np.random.random((hidden_size, num_labels)) - 0.1"
      ],
      "metadata": {
        "id": "LEaQEXcAw1jl"
      },
      "execution_count": 3,
      "outputs": []
    },
    {
      "cell_type": "code",
      "source": [
        "def get_image_section(layer,row_from, row_to, col_from, col_to):\n",
        "  section = layer[:,row_from:row_to,col_from:col_to]\n",
        "  return section.reshape(-1,1,row_to-row_from, col_to-col_from)"
      ],
      "metadata": {
        "id": "rJmhVb5Tw-y4"
      },
      "execution_count": 4,
      "outputs": []
    },
    {
      "cell_type": "code",
      "source": [
        "for j in range(iterations):\n",
        "  correct_cnt = 0\n",
        "  for i in range(int(len(images) / batch_size)):\n",
        "    batch_start, batch_end=((i * batch_size),((i+1)*batch_size))\n",
        "    layer_0 = images[batch_start:batch_end]\n",
        "    layer_0 = layer_0.reshape(layer_0.shape[0],28,28)\n",
        "    layer_0.shape\n",
        "    sects = list()\n",
        "    for row_start in range(layer_0.shape[1]-kernel_rows):\n",
        "      for col_start in range(layer_0.shape[2] - kernel_cols):\n",
        "        sect = get_image_section(layer_0,row_start,\\\n",
        "                                 row_start+kernel_rows,\\\n",
        "                                 col_start,col_start+kernel_cols)\n",
        "        sects.append(sect)\n",
        "    expanded_input = np.concatenate(sects,axis=1)\n",
        "    es = expanded_input.shape\n",
        "    flattened_input = expanded_input.reshape(es[0]*es[1],-1)\n",
        "\n",
        "    kernel_output = flattened_input.dot(kernels)\n",
        "    layer_1 = tanh(kernel_output.reshape(es[0],-1))\n",
        "    dropout_mask = np.random.randint(2,size=layer_1.shape)\n",
        "    layer_1 *= dropout_mask * 2\n",
        "    layer_2 = softmax(np.dot(layer_1,weights_1_2))\n",
        "\n",
        "    for k in range(batch_size):\n",
        "      labelset = labels[batch_start+k:batch_start+k+1]\n",
        "      _inc = int(np.argmax(layer_2[k:k+1]) ==\n",
        "      np.argmax(labelset))\n",
        "      correct_cnt += _inc\n",
        "    layer_2_delta = (labels[batch_start:batch_end]-layer_2)\\\n",
        "    / (batch_size * layer_2.shape[0])\n",
        "    layer_1_delta = layer_2_delta.dot(weights_1_2.T) * \\\n",
        "    tanh2deriv(layer_1)\n",
        "    layer_1_delta *= dropout_mask\n",
        "    weights_1_2 += alpha * layer_1.T.dot(layer_2_delta)\n",
        "    l1d_reshape = layer_1_delta.reshape(kernel_output.shape)\n",
        "    k_update = flattened_input.T.dot(l1d_reshape)\n",
        "    kernels -= alpha * k_update\n",
        "  test_correct_cnt = 0\n",
        "\n",
        "  for i in range(len(test_images)):\n",
        "    layer_0 = test_images[i:i+1]\n",
        "    layer_0 = layer_0.reshape(layer_0.shape[0],28,28)\n",
        "    layer_0.shape\n",
        "    sects = list()\n",
        "    for row_start in range(layer_0.shape[1]-kernel_rows):\n",
        "      for col_start in range(layer_0.shape[2] - kernel_cols):\n",
        "        sect = get_image_section(layer_0,row_start,\\\n",
        "                                 row_start+kernel_rows,col_start,\\\n",
        "                                 col_start+kernel_cols)\n",
        "        sects.append(sect)\n",
        "    expanded_input = np.concatenate(sects,axis=1)\n",
        "    es = expanded_input.shape\n",
        "    flattened_input = expanded_input.reshape(es[0]*es[1],-1)\n",
        "    kernel_output = flattened_input.dot(kernels)\n",
        "    layer_1 = tanh(kernel_output.reshape(es[0],-1))\n",
        "    layer_2 = np.dot(layer_1,weights_1_2)\n",
        "\n",
        "    test_correct_cnt += int(np.argmax(layer_2) ==\\\n",
        "                            np.argmax(test_labels[i:i+1]))\n",
        "  if(j % 100 == 0):\n",
        "    sys.stdout.write(\"\\n\"+ \\\n",
        "    \"I:\" + str(j) + \\\n",
        "    \" Test-Acc:\"+str(test_correct_cnt/float(len(test_images)))+\\\n",
        "    \" Train-Acc:\" + str(correct_cnt/float(len(images))))"
      ],
      "metadata": {
        "colab": {
          "base_uri": "https://localhost:8080/"
        },
        "id": "3ak6LmMoxC_U",
        "outputId": "71530357-48c3-4ef2-fcf8-81e68249fc5a"
      },
      "execution_count": null,
      "outputs": [
        {
          "output_type": "stream",
          "name": "stdout",
          "text": [
            "\n",
            "I:0 Test-Acc:0.0288 Train-Acc:0.055"
          ]
        }
      ]
    },
    {
      "cell_type": "code",
      "source": [],
      "metadata": {
        "id": "zAKozKEHywuB"
      },
      "execution_count": null,
      "outputs": []
    }
  ]
}