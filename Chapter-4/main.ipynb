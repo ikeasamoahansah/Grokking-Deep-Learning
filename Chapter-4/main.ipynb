{
 "cells": [
  {
   "cell_type": "code",
   "execution_count": null,
   "metadata": {},
   "outputs": [],
   "source": [
    "weight = 0.5\n",
    "input = 0.5\n",
    "goal_pred = 0.8\n",
    "\n",
    "step_amount = 0.001\n",
    "\n",
    "for i in range(1101):\n",
    "    pred = input * weight\n",
    "    error = (pred - goal_pred) ** 2\n",
    "\n",
    "    print(\"Error: \"+ str(error) + \" Prediction: \"+ str(pred))\n",
    "\n",
    "    up_pred = input * (weight + step_amount)\n",
    "    up_error = (goal_pred - up_pred) ** 2\n",
    "\n",
    "    down_pred = input * (weight - step_amount)\n",
    "    down_error = (goal_pred - down_pred) ** 2\n",
    "\n",
    "    if (down_error < up_error):\n",
    "        weight = weight - step_amount\n",
    "\n",
    "    if (down_error > up_error):\n",
    "        weight = weight + step_amount"
   ]
  },
  {
   "cell_type": "code",
   "execution_count": null,
   "metadata": {},
   "outputs": [],
   "source": []
  }
 ],
 "metadata": {
  "language_info": {
   "name": "python"
  }
 },
 "nbformat": 4,
 "nbformat_minor": 2
}
